{
 "cells": [
  {
   "cell_type": "code",
   "execution_count": 1,
   "id": "03ab8f56-6553-473e-8eb4-59610698599c",
   "metadata": {},
   "outputs": [],
   "source": [
    "#Q1. Explain Class and Object with respect to Object-Oriented Programming. Give a suitable example.\n",
    "# Ans:-A class is a user-defined type that describes what a certain type of object will look like. A class description consists of a declaration and a definition. Usually these pieces are split into separate files. An object is a single instance of a class\n",
    "# object in OOP:-\n",
    "#In object-oriented programming (OOP), objects are the things you think about first in designing a program and they are also the units of code that are eventually derived from the process.\n",
    "class school:\n",
    "    \n",
    "    def __init__(self,phone_no,student_id,emile_id):\n",
    "        self.phone_no=phone_no\n",
    "        self.student_id=student_id\n",
    "        self.emile_id=emile_id\n",
    "    def return_student_ideetials(self):\n",
    "        return self.student_id,self.phone_no,self.emile_id"
   ]
  },
  {
   "cell_type": "code",
   "execution_count": 2,
   "id": "f887982c-287a-40a0-8f1c-eb93bd3e5ba6",
   "metadata": {},
   "outputs": [],
   "source": [
    "rohan=school(7307141451,100,\"akashgupta@emile\")"
   ]
  },
  {
   "cell_type": "code",
   "execution_count": null,
   "id": "7562e085-e288-4a2a-905a-9e573e53a81a",
   "metadata": {},
   "outputs": [],
   "source": [
    "#2. Name the four pillars of OOPs\n",
    "#Ans:-These principles are called the four pillars of object-oriented programming (OOP). These four pillars are Inheritance, Polymorphism, Encapsulation and Abstraction."
   ]
  },
  {
   "cell_type": "code",
   "execution_count": 3,
   "id": "4a71d052-f215-4c34-821e-41f31b296dcd",
   "metadata": {},
   "outputs": [],
   "source": [
    "#Explain why the __init__() function is used?\n",
    "#Ans:-The __init__ function is called every time an object is created from a class. The __init__ method lets the class initialize the object's attributes and serves no other purpose. It is only used within classes\n",
    "class pwskills1 :\n",
    "    \n",
    "    def __init__(self ,phone_number , email_id , student_id ):\n",
    "        self.phone_number = phone_number\n",
    "        self.email_id = email_id\n",
    "        self.student_id = student_id\n",
    "    \n",
    "    def return_student_deetials(self) : \n",
    "        return self.student_id ,self.phone_number ,self.email_id"
   ]
  },
  {
   "cell_type": "code",
   "execution_count": 4,
   "id": "9db64a2a-6b4e-472b-8066-3e4ebc83e637",
   "metadata": {},
   "outputs": [],
   "source": [
    "rohan = pwskills1(122232432342, \"rohan@gmail.com\" , 101)"
   ]
  },
  {
   "cell_type": "code",
   "execution_count": 5,
   "id": "75295459-42d9-476f-9fef-efcbf2c629f9",
   "metadata": {},
   "outputs": [
    {
     "data": {
      "text/plain": [
       "(101, 122232432342, 'rohan@gmail.com')"
      ]
     },
     "execution_count": 5,
     "metadata": {},
     "output_type": "execute_result"
    }
   ],
   "source": [
    "rohan.return_student_deetials()"
   ]
  },
  {
   "cell_type": "code",
   "execution_count": null,
   "id": "a08c61c9-f963-4fab-8648-4253ae7fc982",
   "metadata": {},
   "outputs": [],
   "source": [
    "#Why self is used in OOPs?\n",
    "#Ans:-The self variable is used to represent the instance of the class which is often used in object-oriented programming. It works as a reference to the object. Python uses the self parameter to refer to instance attributes and methods of the class."
   ]
  },
  {
   "cell_type": "code",
   "execution_count": null,
   "id": "8f31d1b9-682e-41cf-aff7-44a65b166bb2",
   "metadata": {},
   "outputs": [],
   "source": [
    "#What is inheritance?\n",
    "#Ans:-\n",
    "Inheritance allows us to define a class that inherits all the methods and properties from another class.\n",
    "\n",
    "Parent class is the class being inherited from, also called base class.\n",
    "\n",
    "Child class is the class that inherits from another class, also called derived class."
   ]
  },
  {
   "cell_type": "code",
   "execution_count": 6,
   "id": "e8c1413b-bda0-4a5d-ac50-fdda62d13cdf",
   "metadata": {},
   "outputs": [
    {
     "name": "stdout",
     "output_type": "stream",
     "text": [
      "Akash kumar\n"
     ]
    }
   ],
   "source": [
    "class Person:\n",
    "  def __init__(self, fname, lname):\n",
    "    self.firstname = fname\n",
    "    self.lastname = lname\n",
    "\n",
    "  def printname(self):\n",
    "    print(self.firstname, self.lastname)\n",
    "\n",
    "\n",
    "\n",
    "x = Person(\"Akash\", \"kumar\")\n",
    "x.printname()"
   ]
  },
  {
   "cell_type": "code",
   "execution_count": null,
   "id": "bee89f59-f708-417e-a280-52c3e4f80c83",
   "metadata": {},
   "outputs": [],
   "source": []
  }
 ],
 "metadata": {
  "kernelspec": {
   "display_name": "Python 3 (ipykernel)",
   "language": "python",
   "name": "python3"
  },
  "language_info": {
   "codemirror_mode": {
    "name": "ipython",
    "version": 3
   },
   "file_extension": ".py",
   "mimetype": "text/x-python",
   "name": "python",
   "nbconvert_exporter": "python",
   "pygments_lexer": "ipython3",
   "version": "3.10.8"
  }
 },
 "nbformat": 4,
 "nbformat_minor": 5
}
